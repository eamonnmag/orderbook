{
 "cells": [
  {
   "cell_type": "code",
   "execution_count": 218,
   "metadata": {
    "ExecuteTime": {
     "end_time": "2017-12-28T17:29:11.985284Z",
     "start_time": "2017-12-28T17:29:11.973699Z"
    }
   },
   "outputs": [
    {
     "name": "stdout",
     "output_type": "stream",
     "text": [
      "The autoreload extension is already loaded. To reload it, use:\n",
      "  %reload_ext autoreload\n"
     ]
    }
   ],
   "source": [
    "%load_ext autoreload\n",
    "%autoreload 2"
   ]
  },
  {
   "cell_type": "code",
   "execution_count": 219,
   "metadata": {
    "ExecuteTime": {
     "end_time": "2017-12-28T17:29:12.180794Z",
     "start_time": "2017-12-28T17:29:12.166158Z"
    }
   },
   "outputs": [
    {
     "data": {
      "text/plain": [
       "True"
      ]
     },
     "execution_count": 219,
     "metadata": {},
     "output_type": "execute_result"
    }
   ],
   "source": [
    "from order_simulator.agents.basic_agent import BasicAgent\n",
    "from order_simulator.service.exchange import ExchangeService, Exchange\n",
    "from order_simulator.service.exchange import Side\n",
    "\n",
    "exchange_service = ExchangeService()\n",
    "\n",
    "exchange_service.register_exchange(Exchange(name='AAPL'))\n",
    "exchange_service.register_exchange(Exchange(name='MSFT'))"
   ]
  },
  {
   "cell_type": "code",
   "execution_count": 220,
   "metadata": {
    "ExecuteTime": {
     "end_time": "2017-12-28T17:29:12.554962Z",
     "start_time": "2017-12-28T17:29:12.541932Z"
    }
   },
   "outputs": [
    {
     "name": "stdout",
     "output_type": "stream",
     "text": [
      "notified basic_agent_1...\n",
      "notified basic_agent_2...\n"
     ]
    },
    {
     "data": {
      "text/plain": [
       "<order_simulator.service.exchange.Exchange at 0x11170ad68>"
      ]
     },
     "execution_count": 220,
     "metadata": {},
     "output_type": "execute_result"
    }
   ],
   "source": [
    "agent_1 = BasicAgent(client_id='basic_agent_1')\n",
    "agent_2 = BasicAgent(client_id='basic_agent_2')\n",
    "\n",
    "exchange_service.register_agent('AAPL', agent_1)\n",
    "exchange_service.register_agent('AAPL', agent_2)"
   ]
  },
  {
   "cell_type": "code",
   "execution_count": 221,
   "metadata": {
    "ExecuteTime": {
     "end_time": "2017-12-28T17:29:12.740814Z",
     "start_time": "2017-12-28T17:29:12.727581Z"
    }
   },
   "outputs": [
    {
     "data": {
      "text/plain": [
       "<order_simulator.service.exchange.ledger_item.OrderItem at 0x11170a4a8>"
      ]
     },
     "execution_count": 221,
     "metadata": {},
     "output_type": "execute_result"
    }
   ],
   "source": [
    "exchange_service.place_order(client_id='basic_agent_1',\n",
    "                                 exchange_name=\"AAPL\",\n",
    "                                 side=Side.BUY,\n",
    "                                 quantity=25,\n",
    "                                 price=10.2)\n",
    "\n",
    "exchange_service.place_order(client_id='basic_agent_1',\n",
    "                                 exchange_name=\"AAPL\",\n",
    "                                 side=Side.BUY,\n",
    "                                 quantity=25,\n",
    "                                 price=10.4)"
   ]
  },
  {
   "cell_type": "code",
   "execution_count": 222,
   "metadata": {
    "ExecuteTime": {
     "end_time": "2017-12-28T17:29:12.923438Z",
     "start_time": "2017-12-28T17:29:12.910122Z"
    }
   },
   "outputs": [
    {
     "name": "stdout",
     "output_type": "stream",
     "text": [
      "notified basic_agent_1...\n",
      "notified basic_agent_2...\n"
     ]
    },
    {
     "data": {
      "text/plain": [
       "<order_simulator.service.exchange.ledger_item.OrderItem at 0x1116c42e8>"
      ]
     },
     "execution_count": 222,
     "metadata": {},
     "output_type": "execute_result"
    }
   ],
   "source": [
    "exchange_service.place_order('basic_agent_1', 'AAPL', Side.SELL, 24, 10.4)"
   ]
  },
  {
   "cell_type": "code",
   "execution_count": 223,
   "metadata": {
    "ExecuteTime": {
     "end_time": "2017-12-28T17:29:13.159871Z",
     "start_time": "2017-12-28T17:29:13.148245Z"
    }
   },
   "outputs": [
    {
     "data": {
      "text/plain": [
       "[25, 25, 24]"
      ]
     },
     "execution_count": 223,
     "metadata": {},
     "output_type": "execute_result"
    }
   ],
   "source": [
    "[order_item.quantity for order_item in exchange_service.get_orders('AAPL')]"
   ]
  },
  {
   "cell_type": "code",
   "execution_count": 224,
   "metadata": {
    "ExecuteTime": {
     "end_time": "2017-12-28T17:29:13.657574Z",
     "start_time": "2017-12-28T17:29:13.644353Z"
    }
   },
   "outputs": [
    {
     "data": {
      "text/plain": [
       "<order_simulator.service.exchange.ledger_item.OrderItem at 0x1116c47b8>"
      ]
     },
     "execution_count": 224,
     "metadata": {},
     "output_type": "execute_result"
    }
   ],
   "source": [
    "exchange_service.place_order('basic_agent_1', 'AAPL', Side.BUY, 25, 10.4)"
   ]
  },
  {
   "cell_type": "code",
   "execution_count": 226,
   "metadata": {
    "ExecuteTime": {
     "end_time": "2017-12-28T17:29:18.057389Z",
     "start_time": "2017-12-28T17:29:18.045627Z"
    }
   },
   "outputs": [
    {
     "name": "stdout",
     "output_type": "stream",
     "text": [
      "{'timestamp': datetime.datetime(2017, 12, 28, 18, 29, 12, 737881), 'quantity': 1, 'price': 10.2, 'id': 0}\n",
      "{'timestamp': datetime.datetime(2017, 12, 28, 18, 29, 12, 737961), 'quantity': 25, 'price': 10.4, 'id': 1}\n",
      "{'timestamp': datetime.datetime(2017, 12, 28, 18, 29, 13, 654952), 'quantity': 25, 'price': 10.4, 'id': 3}\n"
     ]
    }
   ],
   "source": [
    "omap = exchange_service.get_exchange('AAPL').books[Side.BUY].orderMapId\n",
    "for trans in omap:\n",
    "    print(omap[trans])"
   ]
  },
  {
   "cell_type": "code",
   "execution_count": null,
   "metadata": {},
   "outputs": [],
   "source": [
    "transaction_id = exchange_service.get_exchange('AAPL').transactions\n",
    "for trans in omap:\n",
    "    print(omap[trans])"
   ]
  },
  {
   "cell_type": "code",
   "execution_count": null,
   "metadata": {},
   "outputs": [],
   "source": []
  }
 ],
 "metadata": {
  "kernelspec": {
   "display_name": "order-book",
   "language": "python",
   "name": "order-book"
  },
  "language_info": {
   "codemirror_mode": {
    "name": "ipython",
    "version": 3
   },
   "file_extension": ".py",
   "mimetype": "text/x-python",
   "name": "python",
   "nbconvert_exporter": "python",
   "pygments_lexer": "ipython3",
   "version": "3.5.2"
  },
  "toc": {
   "colors": {
    "hover_highlight": "#DAA520",
    "running_highlight": "#FF0000",
    "selected_highlight": "#FFD700"
   },
   "moveMenuLeft": true,
   "nav_menu": {
    "height": "12px",
    "width": "252px"
   },
   "navigate_menu": true,
   "number_sections": true,
   "sideBar": true,
   "threshold": 4,
   "toc_cell": false,
   "toc_section_display": "block",
   "toc_window_display": false
  }
 },
 "nbformat": 4,
 "nbformat_minor": 1
}
